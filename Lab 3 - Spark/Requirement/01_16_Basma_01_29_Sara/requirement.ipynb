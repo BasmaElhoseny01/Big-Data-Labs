{
  "cells": [
    {
      "cell_type": "code",
      "execution_count": 2,
      "metadata": {
        "colab": {
          "base_uri": "https://localhost:8080/"
        },
        "id": "gBWYO3N-NVmf",
        "outputId": "08cd555a-9d73-470a-a75a-8c43315b404d"
      },
      "outputs": [
        {
          "name": "stdout",
          "output_type": "stream",
          "text": [
            "Mounted at /content/drive\n"
          ]
        }
      ],
      "source": [
        "from google.colab import drive\n",
        "drive.mount('/content/drive')"
      ]
    },
    {
      "cell_type": "markdown",
      "metadata": {
        "id": "uRKPrAxaRSSZ"
      },
      "source": [
        "ADD https://drive.google.com/file/d/1L1PSvBV3-hfyOCwPyjZBzBVTMhd7MF8a/view"
      ]
    },
    {
      "cell_type": "code",
      "execution_count": 3,
      "metadata": {
        "colab": {
          "base_uri": "https://localhost:8080/"
        },
        "id": "GjLEfKKgKHjk",
        "outputId": "b984fc30-e3a4-4fc7-8743-f63273206e16"
      },
      "outputs": [
        {
          "name": "stdout",
          "output_type": "stream",
          "text": [
            "Archive:  /content/drive/MyDrive/in.zip\n",
            "  inflating: /content/in.csv         \n"
          ]
        }
      ],
      "source": [
        "!unzip /content/drive/MyDrive/in.zip -d /content"
      ]
    },
    {
      "cell_type": "code",
      "execution_count": 4,
      "metadata": {
        "colab": {
          "base_uri": "https://localhost:8080/"
        },
        "id": "55oQOprJWIzY",
        "outputId": "b0ce3efd-4e70-4413-ecf5-69fc20179915"
      },
      "outputs": [
        {
          "name": "stdout",
          "output_type": "stream",
          "text": [
            "Collecting pyspark\n",
            "  Downloading pyspark-3.5.1.tar.gz (317.0 MB)\n",
            "\u001b[2K     \u001b[90m━━━━━━━━━━━━━━━━━━━━━━━━━━━━━━━━━━━━━━━━\u001b[0m \u001b[32m317.0/317.0 MB\u001b[0m \u001b[31m3.6 MB/s\u001b[0m eta \u001b[36m0:00:00\u001b[0m\n",
            "\u001b[?25h  Preparing metadata (setup.py) ... \u001b[?25l\u001b[?25hdone\n",
            "Requirement already satisfied: py4j==0.10.9.7 in /usr/local/lib/python3.10/dist-packages (from pyspark) (0.10.9.7)\n",
            "Building wheels for collected packages: pyspark\n",
            "  Building wheel for pyspark (setup.py) ... \u001b[?25l\u001b[?25hdone\n",
            "  Created wheel for pyspark: filename=pyspark-3.5.1-py2.py3-none-any.whl size=317488493 sha256=b8fcdf60c496c4dcf7a18f0cfb3ce66ce4c35bd2dcf47e6498219dfa8e67e79c\n",
            "  Stored in directory: /root/.cache/pip/wheels/80/1d/60/2c256ed38dddce2fdd93be545214a63e02fbd8d74fb0b7f3a6\n",
            "Successfully built pyspark\n",
            "Installing collected packages: pyspark\n",
            "Successfully installed pyspark-3.5.1\n"
          ]
        }
      ],
      "source": [
        "!pip install pyspark"
      ]
    },
    {
      "cell_type": "code",
      "execution_count": 5,
      "metadata": {
        "colab": {
          "base_uri": "https://localhost:8080/"
        },
        "id": "oc4l5fpvWWZL",
        "outputId": "4262ce7b-05c5-4a35-ed76-fafc0c300f25"
      },
      "outputs": [
        {
          "name": "stdout",
          "output_type": "stream",
          "text": [
            "Collecting findspark\n",
            "  Downloading findspark-2.0.1-py2.py3-none-any.whl (4.4 kB)\n",
            "Installing collected packages: findspark\n",
            "Successfully installed findspark-2.0.1\n"
          ]
        }
      ],
      "source": [
        "!pip install findspark"
      ]
    },
    {
      "cell_type": "code",
      "execution_count": 6,
      "metadata": {
        "id": "pA_j2dmcWBvf"
      },
      "outputs": [],
      "source": [
        "import findspark\n",
        "findspark.init() #check spark installation\n",
        "\n",
        "from pyspark.sql import SparkSession\n",
        "from pyspark.conf import SparkConf"
      ]
    },
    {
      "cell_type": "code",
      "execution_count": 7,
      "metadata": {
        "id": "x5MaQ0hcWBvg"
      },
      "outputs": [],
      "source": [
        "# Create Spark Session\n",
        "spark=SparkSession.builder\\\n",
        "    .master(\"local[*]\")\\\n",
        "    .appName(\"CardReport\")\\\n",
        "    .getOrCreate()"
      ]
    },
    {
      "cell_type": "code",
      "execution_count": 8,
      "metadata": {
        "id": "c90EDEECWBvh"
      },
      "outputs": [],
      "source": [
        "# Create Spark Context\n",
        "sc=spark.sparkContext"
      ]
    },
    {
      "cell_type": "code",
      "execution_count": 9,
      "metadata": {
        "colab": {
          "base_uri": "https://localhost:8080/"
        },
        "id": "iGW0iM06WBvh",
        "outputId": "b26ecd39-c1fb-4254-c8ef-7a2d7e9bd3c9"
      },
      "outputs": [
        {
          "name": "stdout",
          "output_type": "stream",
          "text": [
            "['224,10', '836,100', '81,5']\n",
            "75000000\n"
          ]
        }
      ],
      "source": [
        "# # Read Input into RDD\n",
        "rdd=sc.textFile('/content/in.csv')\n",
        "# # Show first 10 rows\n",
        "print(rdd.take(3))\n",
        "print(rdd.count())"
      ]
    },
    {
      "cell_type": "code",
      "execution_count": 11,
      "metadata": {
        "colab": {
          "base_uri": "https://localhost:8080/"
        },
        "id": "nPopoXcLWBvi",
        "outputId": "1a38b772-d6a7-4bc7-95de-762484a9247d"
      },
      "outputs": [
        {
          "name": "stdout",
          "output_type": "stream",
          "text": [
            "[('224', '10'), ('836', '100'), ('81', '5')]\n"
          ]
        }
      ],
      "source": [
        "# Split row to be tuple of 2 elements the id and the value of the card\n",
        "rdd_split=rdd.map(lambda x: tuple(x.split(',')))\n",
        "print(rdd_split.take(3))"
      ]
    },
    {
      "cell_type": "code",
      "execution_count": 12,
      "metadata": {
        "colab": {
          "base_uri": "https://localhost:8080/"
        },
        "id": "snmU9DdkWBvj",
        "outputId": "b4b33cb6-eaf7-4e9b-d8ba-e80df500eb1d"
      },
      "outputs": [
        {
          "name": "stdout",
          "output_type": "stream",
          "text": [
            "[('0', 2554710), ('1', 2540660), ('10', 2525035)]\n"
          ]
        }
      ],
      "source": [
        "# Reduce the rdd by key :D first element of the tuple\n",
        "rdd_result=rdd_split.reduceByKey(lambda x,y:int(x)+int(y)).sortByKey()\n",
        "print(rdd_result.take(3))"
      ]
    },
    {
      "cell_type": "code",
      "execution_count": 13,
      "metadata": {
        "colab": {
          "base_uri": "https://localhost:8080/"
        },
        "id": "9wUO0ZjSaFq-",
        "outputId": "0c046011-c6f1-4c7d-be9d-8c479ad7ec68"
      },
      "outputs": [
        {
          "data": {
            "text/plain": [
              "['0 2554710',\n",
              " '1 2540660',\n",
              " '10 2525035',\n",
              " '100 2568385',\n",
              " '101 2564425',\n",
              " '102 2538315',\n",
              " '103 2564125',\n",
              " '104 2555395',\n",
              " '105 2569490',\n",
              " '106 2555705']"
            ]
          },
          "execution_count": 13,
          "metadata": {},
          "output_type": "execute_result"
        }
      ],
      "source": [
        "# Convert Tuple to string space separted :D\n",
        "rdd_csv = rdd_result.map(lambda x: ' '.join(map(str, x)))\n",
        "rdd_csv.take(10)"
      ]
    },
    {
      "cell_type": "code",
      "execution_count": 14,
      "metadata": {
        "id": "9rVc0FA2QrBF"
      },
      "outputs": [],
      "source": [
        "# Save Result in 1 Partition\n",
        "rdd_csv.coalesce(1).saveAsTextFile(\"out\")"
      ]
    },
    {
      "cell_type": "code",
      "execution_count": 16,
      "metadata": {
        "id": "-SAqO0c_QvNY"
      },
      "outputs": [],
      "source": [
        "# Rename output file\n",
        "import os\n",
        "os.rename(\"out/part-00000\", \"output.csv\")"
      ]
    }
  ],
  "metadata": {
    "colab": {
      "provenance": []
    },
    "kernelspec": {
      "display_name": "Python 3",
      "language": "python",
      "name": "python3"
    },
    "language_info": {
      "codemirror_mode": {
        "name": "ipython",
        "version": 3
      },
      "file_extension": ".py",
      "mimetype": "text/x-python",
      "name": "python",
      "nbconvert_exporter": "python",
      "pygments_lexer": "ipython3",
      "version": "3.10.9"
    }
  },
  "nbformat": 4,
  "nbformat_minor": 0
}
